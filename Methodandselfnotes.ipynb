{
 "cells": [
  {
   "cell_type": "code",
   "execution_count": null,
   "metadata": {},
   "outputs": [],
   "source": [
    "class DemoClass: \n",
    "    pass"
   ]
  },
  {
   "cell_type": "code",
   "execution_count": 17,
   "metadata": {},
   "outputs": [
    {
     "name": "stdout",
     "output_type": "stream",
     "text": [
      "<class '__main__.DemoClass'>\n",
      "4550659376\n",
      "<class '__main__.DemoClass'>\n",
      "4550659488\n"
     ]
    }
   ],
   "source": [
    "my_instance_1= DemoClass()\n",
    "print(type(my_instance_1))\n",
    "print(id(my_instance_1))\n",
    "my_instance_2 = DemoClass()\n",
    "print(type(my_instance_2))\n",
    "print(id(my_instance_2))"
   ]
  },
  {
   "cell_type": "code",
   "execution_count": null,
   "metadata": {},
   "outputs": [],
   "source": [
    "class Account: \n",
    "    def __init__(self, balance, name): \n",
    "        self.balance= balance\n",
    "        self.name = name\n",
    "    def credit(self): \n",
    "        return self.balance = self.balance + credit \n",
    "    def debit (self): \n",
    "        return self.balance = self.balance + debit \n",
    "    def get_balance(self): \n",
    "        return self.balance\n",
    "    def get_name(self): \n",
    "        return self.name\n",
    "    def set_name(self, name): \n",
    "        return self.name = name \n",
    "\n"
   ]
  }
 ],
 "metadata": {
  "kernelspec": {
   "display_name": "Python 3",
   "language": "python",
   "name": "python3"
  },
  "language_info": {
   "codemirror_mode": {
    "name": "ipython",
    "version": 3
   },
   "file_extension": ".py",
   "mimetype": "text/x-python",
   "name": "python",
   "nbconvert_exporter": "python",
   "pygments_lexer": "ipython3",
   "version": "3.6.5"
  }
 },
 "nbformat": 4,
 "nbformat_minor": 2
}
